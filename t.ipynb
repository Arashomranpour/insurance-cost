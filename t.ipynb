{
 "cells": [
  {
   "cell_type": "code",
   "execution_count": 1,
   "metadata": {},
   "outputs": [],
   "source": [
    "import pandas as pd\n",
    "import numpy as np\n",
    "import matplotlib.pyplot as plt"
   ]
  },
  {
   "cell_type": "code",
   "execution_count": 2,
   "metadata": {},
   "outputs": [
    {
     "data": {
      "text/html": [
       "<div>\n",
       "<style scoped>\n",
       "    .dataframe tbody tr th:only-of-type {\n",
       "        vertical-align: middle;\n",
       "    }\n",
       "\n",
       "    .dataframe tbody tr th {\n",
       "        vertical-align: top;\n",
       "    }\n",
       "\n",
       "    .dataframe thead th {\n",
       "        text-align: right;\n",
       "    }\n",
       "</style>\n",
       "<table border=\"1\" class=\"dataframe\">\n",
       "  <thead>\n",
       "    <tr style=\"text-align: right;\">\n",
       "      <th></th>\n",
       "      <th>age</th>\n",
       "      <th>sex</th>\n",
       "      <th>bmi</th>\n",
       "      <th>children</th>\n",
       "      <th>smoker</th>\n",
       "      <th>region</th>\n",
       "      <th>charges</th>\n",
       "    </tr>\n",
       "  </thead>\n",
       "  <tbody>\n",
       "    <tr>\n",
       "      <th>0</th>\n",
       "      <td>19</td>\n",
       "      <td>female</td>\n",
       "      <td>27.900</td>\n",
       "      <td>0</td>\n",
       "      <td>yes</td>\n",
       "      <td>southwest</td>\n",
       "      <td>16884.92400</td>\n",
       "    </tr>\n",
       "    <tr>\n",
       "      <th>1</th>\n",
       "      <td>18</td>\n",
       "      <td>male</td>\n",
       "      <td>33.770</td>\n",
       "      <td>1</td>\n",
       "      <td>no</td>\n",
       "      <td>southeast</td>\n",
       "      <td>1725.55230</td>\n",
       "    </tr>\n",
       "    <tr>\n",
       "      <th>2</th>\n",
       "      <td>28</td>\n",
       "      <td>male</td>\n",
       "      <td>33.000</td>\n",
       "      <td>3</td>\n",
       "      <td>no</td>\n",
       "      <td>southeast</td>\n",
       "      <td>4449.46200</td>\n",
       "    </tr>\n",
       "    <tr>\n",
       "      <th>3</th>\n",
       "      <td>33</td>\n",
       "      <td>male</td>\n",
       "      <td>22.705</td>\n",
       "      <td>0</td>\n",
       "      <td>no</td>\n",
       "      <td>northwest</td>\n",
       "      <td>21984.47061</td>\n",
       "    </tr>\n",
       "    <tr>\n",
       "      <th>4</th>\n",
       "      <td>32</td>\n",
       "      <td>male</td>\n",
       "      <td>28.880</td>\n",
       "      <td>0</td>\n",
       "      <td>no</td>\n",
       "      <td>northwest</td>\n",
       "      <td>3866.85520</td>\n",
       "    </tr>\n",
       "  </tbody>\n",
       "</table>\n",
       "</div>"
      ],
      "text/plain": [
       "   age     sex     bmi  children smoker     region      charges\n",
       "0   19  female  27.900         0    yes  southwest  16884.92400\n",
       "1   18    male  33.770         1     no  southeast   1725.55230\n",
       "2   28    male  33.000         3     no  southeast   4449.46200\n",
       "3   33    male  22.705         0     no  northwest  21984.47061\n",
       "4   32    male  28.880         0     no  northwest   3866.85520"
      ]
     },
     "execution_count": 2,
     "metadata": {},
     "output_type": "execute_result"
    }
   ],
   "source": [
    "df=pd.read_csv(\"./insurance.csv\")\n",
    "df.head()"
   ]
  },
  {
   "cell_type": "code",
   "execution_count": 3,
   "metadata": {},
   "outputs": [
    {
     "name": "stdout",
     "output_type": "stream",
     "text": [
      "<class 'pandas.core.frame.DataFrame'>\n",
      "RangeIndex: 1338 entries, 0 to 1337\n",
      "Data columns (total 7 columns):\n",
      " #   Column    Non-Null Count  Dtype  \n",
      "---  ------    --------------  -----  \n",
      " 0   age       1338 non-null   int64  \n",
      " 1   sex       1338 non-null   object \n",
      " 2   bmi       1338 non-null   float64\n",
      " 3   children  1338 non-null   int64  \n",
      " 4   smoker    1338 non-null   object \n",
      " 5   region    1338 non-null   object \n",
      " 6   charges   1338 non-null   float64\n",
      "dtypes: float64(2), int64(2), object(3)\n",
      "memory usage: 73.3+ KB\n"
     ]
    }
   ],
   "source": [
    "df.info()"
   ]
  },
  {
   "cell_type": "markdown",
   "metadata": {},
   "source": [
    "categoricals :\n",
    "- sex\n",
    "- smoker\n",
    "- region"
   ]
  },
  {
   "cell_type": "code",
   "execution_count": 4,
   "metadata": {},
   "outputs": [
    {
     "data": {
      "text/plain": [
       "age         0\n",
       "sex         0\n",
       "bmi         0\n",
       "children    0\n",
       "smoker      0\n",
       "region      0\n",
       "charges     0\n",
       "dtype: int64"
      ]
     },
     "execution_count": 4,
     "metadata": {},
     "output_type": "execute_result"
    }
   ],
   "source": [
    "df.isnull().sum()"
   ]
  },
  {
   "cell_type": "code",
   "execution_count": 5,
   "metadata": {},
   "outputs": [
    {
     "data": {
      "text/html": [
       "<div>\n",
       "<style scoped>\n",
       "    .dataframe tbody tr th:only-of-type {\n",
       "        vertical-align: middle;\n",
       "    }\n",
       "\n",
       "    .dataframe tbody tr th {\n",
       "        vertical-align: top;\n",
       "    }\n",
       "\n",
       "    .dataframe thead th {\n",
       "        text-align: right;\n",
       "    }\n",
       "</style>\n",
       "<table border=\"1\" class=\"dataframe\">\n",
       "  <thead>\n",
       "    <tr style=\"text-align: right;\">\n",
       "      <th></th>\n",
       "      <th>age</th>\n",
       "      <th>bmi</th>\n",
       "      <th>children</th>\n",
       "      <th>charges</th>\n",
       "    </tr>\n",
       "  </thead>\n",
       "  <tbody>\n",
       "    <tr>\n",
       "      <th>count</th>\n",
       "      <td>1338.000000</td>\n",
       "      <td>1338.000000</td>\n",
       "      <td>1338.000000</td>\n",
       "      <td>1338.000000</td>\n",
       "    </tr>\n",
       "    <tr>\n",
       "      <th>mean</th>\n",
       "      <td>39.207025</td>\n",
       "      <td>30.663397</td>\n",
       "      <td>1.094918</td>\n",
       "      <td>13270.422265</td>\n",
       "    </tr>\n",
       "    <tr>\n",
       "      <th>std</th>\n",
       "      <td>14.049960</td>\n",
       "      <td>6.098187</td>\n",
       "      <td>1.205493</td>\n",
       "      <td>12110.011237</td>\n",
       "    </tr>\n",
       "    <tr>\n",
       "      <th>min</th>\n",
       "      <td>18.000000</td>\n",
       "      <td>15.960000</td>\n",
       "      <td>0.000000</td>\n",
       "      <td>1121.873900</td>\n",
       "    </tr>\n",
       "    <tr>\n",
       "      <th>25%</th>\n",
       "      <td>27.000000</td>\n",
       "      <td>26.296250</td>\n",
       "      <td>0.000000</td>\n",
       "      <td>4740.287150</td>\n",
       "    </tr>\n",
       "    <tr>\n",
       "      <th>50%</th>\n",
       "      <td>39.000000</td>\n",
       "      <td>30.400000</td>\n",
       "      <td>1.000000</td>\n",
       "      <td>9382.033000</td>\n",
       "    </tr>\n",
       "    <tr>\n",
       "      <th>75%</th>\n",
       "      <td>51.000000</td>\n",
       "      <td>34.693750</td>\n",
       "      <td>2.000000</td>\n",
       "      <td>16639.912515</td>\n",
       "    </tr>\n",
       "    <tr>\n",
       "      <th>max</th>\n",
       "      <td>64.000000</td>\n",
       "      <td>53.130000</td>\n",
       "      <td>5.000000</td>\n",
       "      <td>63770.428010</td>\n",
       "    </tr>\n",
       "  </tbody>\n",
       "</table>\n",
       "</div>"
      ],
      "text/plain": [
       "               age          bmi     children       charges\n",
       "count  1338.000000  1338.000000  1338.000000   1338.000000\n",
       "mean     39.207025    30.663397     1.094918  13270.422265\n",
       "std      14.049960     6.098187     1.205493  12110.011237\n",
       "min      18.000000    15.960000     0.000000   1121.873900\n",
       "25%      27.000000    26.296250     0.000000   4740.287150\n",
       "50%      39.000000    30.400000     1.000000   9382.033000\n",
       "75%      51.000000    34.693750     2.000000  16639.912515\n",
       "max      64.000000    53.130000     5.000000  63770.428010"
      ]
     },
     "execution_count": 5,
     "metadata": {},
     "output_type": "execute_result"
    }
   ],
   "source": [
    "df.describe()"
   ]
  },
  {
   "cell_type": "code",
   "execution_count": 6,
   "metadata": {},
   "outputs": [
    {
     "name": "stderr",
     "output_type": "stream",
     "text": [
      "D:\\Temp\\ipykernel_12868\\3331501386.py:3: UserWarning: \n",
      "\n",
      "`distplot` is a deprecated function and will be removed in seaborn v0.14.0.\n",
      "\n",
      "Please adapt your code to use either `displot` (a figure-level function with\n",
      "similar flexibility) or `histplot` (an axes-level function for histograms).\n",
      "\n",
      "For a guide to updating your code to use the new functions, please see\n",
      "https://gist.github.com/mwaskom/de44147ed2974457ad6372750bbe5751\n",
      "\n",
      "  sns.distplot(df[\"age\"])\n"
     ]
    },
    {
     "data": {
      "text/plain": [
       "<AxesSubplot: xlabel='age', ylabel='Density'>"
      ]
     },
     "execution_count": 6,
     "metadata": {},
     "output_type": "execute_result"
    },
    {
     "data": {
      "image/png": "[encoded data removed]",
      "text/plain": [
       "<Figure size 640x480 with 1 Axes>"
      ]
     },
     "metadata": {},
     "output_type": "display_data"
    }
   ],
   "source": [
    "import seaborn as sns\n",
    "sns.set()\n",
    "sns.distplot(df[\"age\"])"
   ]
  },
  {
   "cell_type": "code",
   "execution_count": 7,
   "metadata": {},
   "outputs": [
    {
     "data": {
      "text/plain": [
       "<AxesSubplot: xlabel='sex', ylabel='count'>"
      ]
     },
     "execution_count": 7,
     "metadata": {},
     "output_type": "execute_result"
    },
    {
     "data": {
      "image/png": "[encoded data removed]",
      "text/plain": [
       "<Figure size 640x480 with 1 Axes>"
      ]
     },
     "metadata": {},
     "output_type": "display_data"
    }
   ],
   "source": [
    "sns.countplot(x=\"sex\",data=df)"
   ]
  },
  {
   "cell_type": "code",
   "execution_count": 8,
   "metadata": {},
   "outputs": [
    {
     "name": "stderr",
     "output_type": "stream",
     "text": [
      "D:\\Temp\\ipykernel_12868\\2420122515.py:1: UserWarning: \n",
      "\n",
      "`distplot` is a deprecated function and will be removed in seaborn v0.14.0.\n",
      "\n",
      "Please adapt your code to use either `displot` (a figure-level function with\n",
      "similar flexibility) or `histplot` (an axes-level function for histograms).\n",
      "\n",
      "For a guide to updating your code to use the new functions, please see\n",
      "https://gist.github.com/mwaskom/de44147ed2974457ad6372750bbe5751\n",
      "\n",
      "  sns.distplot(df.bmi)\n"
     ]
    },
    {
     "data": {
      "text/plain": [
       "<AxesSubplot: xlabel='bmi', ylabel='Density'>"
      ]
     },
     "execution_count": 8,
     "metadata": {},
     "output_type": "execute_result"
    },
    {
     "data": {
      "image/png": "[encoded data removed]",
      "text/plain": [
       "<Figure size 640x480 with 1 Axes>"
      ]
     },
     "metadata": {},
     "output_type": "display_data"
    }
   ],
   "source": [
    "sns.distplot(df.bmi)"
   ]
  },
  {
   "cell_type": "code",
   "execution_count": 9,
   "metadata": {},
   "outputs": [
    {
     "data": {
      "text/plain": [
       "<AxesSubplot: xlabel='children', ylabel='count'>"
      ]
     },
     "execution_count": 9,
     "metadata": {},
     "output_type": "execute_result"
    },
    {
     "data": {
      "image/png": "[encoded data removed]",
      "text/plain": [
       "<Figure size 640x480 with 1 Axes>"
      ]
     },
     "metadata": {},
     "output_type": "display_data"
    }
   ],
   "source": [
    "sns.countplot(data=df,x=\"children\")"
   ]
  },
  {
   "cell_type": "code",
   "execution_count": 10,
   "metadata": {},
   "outputs": [
    {
     "data": {
      "text/plain": [
       "<AxesSubplot: xlabel='smoker', ylabel='count'>"
      ]
     },
     "execution_count": 10,
     "metadata": {},
     "output_type": "execute_result"
    },
    {
     "data": {
      "image/png": "[encoded data removed]",
      "text/plain": [
       "<Figure size 640x480 with 1 Axes>"
      ]
     },
     "metadata": {},
     "output_type": "display_data"
    }
   ],
   "source": [
    "sns.countplot(x=\"smoker\",data=df)"
   ]
  },
  {
   "cell_type": "code",
   "execution_count": 11,
   "metadata": {},
   "outputs": [
    {
     "data": {
      "text/plain": [
       "<AxesSubplot: xlabel='region', ylabel='count'>"
      ]
     },
     "execution_count": 11,
     "metadata": {},
     "output_type": "execute_result"
    },
    {
     "data": {
      "image/png": "[encoded data removed]",
      "text/plain": [
       "<Figure size 640x480 with 1 Axes>"
      ]
     },
     "metadata": {},
     "output_type": "display_data"
    }
   ],
   "source": [
    "sns.countplot(x=\"region\",data=df)"
   ]
  },
  {
   "cell_type": "code",
   "execution_count": 12,
   "metadata": {},
   "outputs": [],
   "source": [
    "x=df.drop(\"charges\",axis=1)\n",
    "y=df[\"charges\"]\n",
    "from sklearn.model_selection import train_test_split\n",
    "x_train,x_test,y_train,y_test=train_test_split(x,y,test_size=0.2)"
   ]
  },
  {
   "cell_type": "code",
   "execution_count": 13,
   "metadata": {},
   "outputs": [
    {
     "data": {
      "text/html": [
       "<div>\n",
       "<style scoped>\n",
       "    .dataframe tbody tr th:only-of-type {\n",
       "        vertical-align: middle;\n",
       "    }\n",
       "\n",
       "    .dataframe tbody tr th {\n",
       "        vertical-align: top;\n",
       "    }\n",
       "\n",
       "    .dataframe thead th {\n",
       "        text-align: right;\n",
       "    }\n",
       "</style>\n",
       "<table border=\"1\" class=\"dataframe\">\n",
       "  <thead>\n",
       "    <tr style=\"text-align: right;\">\n",
       "      <th></th>\n",
       "      <th>age</th>\n",
       "      <th>sex</th>\n",
       "      <th>bmi</th>\n",
       "      <th>children</th>\n",
       "      <th>smoker</th>\n",
       "      <th>region</th>\n",
       "    </tr>\n",
       "  </thead>\n",
       "  <tbody>\n",
       "    <tr>\n",
       "      <th>1323</th>\n",
       "      <td>42</td>\n",
       "      <td>female</td>\n",
       "      <td>40.370</td>\n",
       "      <td>2</td>\n",
       "      <td>yes</td>\n",
       "      <td>southeast</td>\n",
       "    </tr>\n",
       "    <tr>\n",
       "      <th>380</th>\n",
       "      <td>27</td>\n",
       "      <td>female</td>\n",
       "      <td>17.955</td>\n",
       "      <td>2</td>\n",
       "      <td>yes</td>\n",
       "      <td>northeast</td>\n",
       "    </tr>\n",
       "    <tr>\n",
       "      <th>1239</th>\n",
       "      <td>25</td>\n",
       "      <td>female</td>\n",
       "      <td>42.130</td>\n",
       "      <td>1</td>\n",
       "      <td>no</td>\n",
       "      <td>southeast</td>\n",
       "    </tr>\n",
       "    <tr>\n",
       "      <th>1267</th>\n",
       "      <td>24</td>\n",
       "      <td>male</td>\n",
       "      <td>31.065</td>\n",
       "      <td>0</td>\n",
       "      <td>yes</td>\n",
       "      <td>northeast</td>\n",
       "    </tr>\n",
       "    <tr>\n",
       "      <th>1184</th>\n",
       "      <td>23</td>\n",
       "      <td>female</td>\n",
       "      <td>28.490</td>\n",
       "      <td>1</td>\n",
       "      <td>yes</td>\n",
       "      <td>southeast</td>\n",
       "    </tr>\n",
       "    <tr>\n",
       "      <th>...</th>\n",
       "      <td>...</td>\n",
       "      <td>...</td>\n",
       "      <td>...</td>\n",
       "      <td>...</td>\n",
       "      <td>...</td>\n",
       "      <td>...</td>\n",
       "    </tr>\n",
       "    <tr>\n",
       "      <th>344</th>\n",
       "      <td>49</td>\n",
       "      <td>female</td>\n",
       "      <td>41.470</td>\n",
       "      <td>4</td>\n",
       "      <td>no</td>\n",
       "      <td>southeast</td>\n",
       "    </tr>\n",
       "    <tr>\n",
       "      <th>725</th>\n",
       "      <td>30</td>\n",
       "      <td>female</td>\n",
       "      <td>39.050</td>\n",
       "      <td>3</td>\n",
       "      <td>yes</td>\n",
       "      <td>southeast</td>\n",
       "    </tr>\n",
       "    <tr>\n",
       "      <th>384</th>\n",
       "      <td>44</td>\n",
       "      <td>male</td>\n",
       "      <td>22.135</td>\n",
       "      <td>2</td>\n",
       "      <td>no</td>\n",
       "      <td>northeast</td>\n",
       "    </tr>\n",
       "    <tr>\n",
       "      <th>1185</th>\n",
       "      <td>45</td>\n",
       "      <td>male</td>\n",
       "      <td>23.560</td>\n",
       "      <td>2</td>\n",
       "      <td>no</td>\n",
       "      <td>northeast</td>\n",
       "    </tr>\n",
       "    <tr>\n",
       "      <th>367</th>\n",
       "      <td>42</td>\n",
       "      <td>female</td>\n",
       "      <td>24.985</td>\n",
       "      <td>2</td>\n",
       "      <td>no</td>\n",
       "      <td>northwest</td>\n",
       "    </tr>\n",
       "  </tbody>\n",
       "</table>\n",
       "<p>1070 rows × 6 columns</p>\n",
       "</div>"
      ],
      "text/plain": [
       "      age     sex     bmi  children smoker     region\n",
       "1323   42  female  40.370         2    yes  southeast\n",
       "380    27  female  17.955         2    yes  northeast\n",
       "1239   25  female  42.130         1     no  southeast\n",
       "1267   24    male  31.065         0    yes  northeast\n",
       "1184   23  female  28.490         1    yes  southeast\n",
       "...   ...     ...     ...       ...    ...        ...\n",
       "344    49  female  41.470         4     no  southeast\n",
       "725    30  female  39.050         3    yes  southeast\n",
       "384    44    male  22.135         2     no  northeast\n",
       "1185   45    male  23.560         2     no  northeast\n",
       "367    42  female  24.985         2     no  northwest\n",
       "\n",
       "[1070 rows x 6 columns]"
      ]
     },
     "execution_count": 13,
     "metadata": {},
     "output_type": "execute_result"
    }
   ],
   "source": [
    "x_train"
   ]
  },
  {
   "cell_type": "code",
   "execution_count": 14,
   "metadata": {},
   "outputs": [
    {
     "name": "stderr",
     "output_type": "stream",
     "text": [
      "<frozen importlib._bootstrap>:241: RuntimeWarning: numpy.ufunc size changed, may indicate binary incompatibility. Expected 216 from C header, got 232 from PyObject\n"
     ]
    },
    {
     "data": {
      "application/vnd.jupyter.widget-view+json": {
       "model_id": "b338483ba6c940a29aed325ea27ac013",
       "version_major": 2,
       "version_minor": 0
      },
      "text/plain": [
       "MetricVisualizer(layout=Layout(align_self='stretch', height='500px'))"
      ]
     },
     "metadata": {},
     "output_type": "display_data"
    },
    {
     "name": "stdout",
     "output_type": "stream",
     "text": [
      "0:\tlearn: 0.0664617\ttest: 0.0608617\tbest: 0.0608617 (0)\ttotal: 165ms\tremaining: 32.8s\n",
      "1:\tlearn: 0.1286236\ttest: 0.1292553\tbest: 0.1292553 (1)\ttotal: 176ms\tremaining: 17.4s\n",
      "2:\tlearn: 0.1876533\ttest: 0.1939558\tbest: 0.1939558 (2)\ttotal: 186ms\tremaining: 12.2s\n",
      "3:\tlearn: 0.2427057\ttest: 0.2539327\tbest: 0.2539327 (3)\ttotal: 208ms\tremaining: 10.2s\n",
      "4:\tlearn: 0.2886883\ttest: 0.2987303\tbest: 0.2987303 (4)\ttotal: 221ms\tremaining: 8.61s\n",
      "5:\tlearn: 0.3302324\ttest: 0.3391783\tbest: 0.3391783 (5)\ttotal: 235ms\tremaining: 7.6s\n",
      "6:\tlearn: 0.3727575\ttest: 0.3846130\tbest: 0.3846130 (6)\ttotal: 250ms\tremaining: 6.9s\n",
      "7:\tlearn: 0.4076021\ttest: 0.4225598\tbest: 0.4225598 (7)\ttotal: 263ms\tremaining: 6.32s\n",
      "8:\tlearn: 0.4390570\ttest: 0.4522889\tbest: 0.4522889 (8)\ttotal: 276ms\tremaining: 5.85s\n",
      "9:\tlearn: 0.4690901\ttest: 0.4813656\tbest: 0.4813656 (9)\ttotal: 289ms\tremaining: 5.49s\n",
      "10:\tlearn: 0.4994755\ttest: 0.5138839\tbest: 0.5138839 (10)\ttotal: 300ms\tremaining: 5.15s\n",
      "11:\tlearn: 0.5253747\ttest: 0.5421241\tbest: 0.5421241 (11)\ttotal: 311ms\tremaining: 4.88s\n",
      "12:\tlearn: 0.5497753\ttest: 0.5693561\tbest: 0.5693561 (12)\ttotal: 326ms\tremaining: 4.68s\n",
      "13:\tlearn: 0.5707524\ttest: 0.5890029\tbest: 0.5890029 (13)\ttotal: 341ms\tremaining: 4.54s\n",
      "14:\tlearn: 0.5912960\ttest: 0.6119817\tbest: 0.6119817 (14)\ttotal: 362ms\tremaining: 4.46s\n",
      "15:\tlearn: 0.6098256\ttest: 0.6319295\tbest: 0.6319295 (15)\ttotal: 379ms\tremaining: 4.36s\n",
      "16:\tlearn: 0.6267320\ttest: 0.6498636\tbest: 0.6498636 (16)\ttotal: 403ms\tremaining: 4.34s\n",
      "17:\tlearn: 0.6406007\ttest: 0.6633736\tbest: 0.6633736 (17)\ttotal: 424ms\tremaining: 4.28s\n",
      "18:\tlearn: 0.6549625\ttest: 0.6763763\tbest: 0.6763763 (18)\ttotal: 443ms\tremaining: 4.22s\n",
      "19:\tlearn: 0.6690870\ttest: 0.6919248\tbest: 0.6919248 (19)\ttotal: 495ms\tremaining: 4.45s\n",
      "20:\tlearn: 0.6812920\ttest: 0.7031421\tbest: 0.7031421 (20)\ttotal: 525ms\tremaining: 4.48s\n",
      "21:\tlearn: 0.6927563\ttest: 0.7160629\tbest: 0.7160629 (21)\ttotal: 545ms\tremaining: 4.41s\n",
      "22:\tlearn: 0.7033109\ttest: 0.7255752\tbest: 0.7255752 (22)\ttotal: 559ms\tremaining: 4.3s\n",
      "23:\tlearn: 0.7135973\ttest: 0.7368747\tbest: 0.7368747 (23)\ttotal: 577ms\tremaining: 4.23s\n",
      "24:\tlearn: 0.7224008\ttest: 0.7467840\tbest: 0.7467840 (24)\ttotal: 594ms\tremaining: 4.16s\n",
      "25:\tlearn: 0.7304830\ttest: 0.7541890\tbest: 0.7541890 (25)\ttotal: 609ms\tremaining: 4.08s\n",
      "26:\tlearn: 0.7378992\ttest: 0.7625732\tbest: 0.7625732 (26)\ttotal: 641ms\tremaining: 4.1s\n",
      "27:\tlearn: 0.7451009\ttest: 0.7706349\tbest: 0.7706349 (27)\ttotal: 683ms\tremaining: 4.2s\n",
      "28:\tlearn: 0.7517057\ttest: 0.7777843\tbest: 0.7777843 (28)\ttotal: 696ms\tremaining: 4.11s\n",
      "29:\tlearn: 0.7579030\ttest: 0.7831671\tbest: 0.7831671 (29)\ttotal: 743ms\tremaining: 4.21s\n",
      "30:\tlearn: 0.7638742\ttest: 0.7880441\tbest: 0.7880441 (30)\ttotal: 778ms\tremaining: 4.24s\n",
      "31:\tlearn: 0.7692736\ttest: 0.7924309\tbest: 0.7924309 (31)\ttotal: 798ms\tremaining: 4.19s\n",
      "32:\tlearn: 0.7736462\ttest: 0.7963471\tbest: 0.7963471 (32)\ttotal: 819ms\tremaining: 4.14s\n",
      "33:\tlearn: 0.7783766\ttest: 0.8001341\tbest: 0.8001341 (33)\ttotal: 851ms\tremaining: 4.16s\n",
      "34:\tlearn: 0.7830568\ttest: 0.8051913\tbest: 0.8051913 (34)\ttotal: 871ms\tremaining: 4.11s\n",
      "35:\tlearn: 0.7869741\ttest: 0.8082757\tbest: 0.8082757 (35)\ttotal: 887ms\tremaining: 4.04s\n",
      "36:\tlearn: 0.7905876\ttest: 0.8110799\tbest: 0.8110799 (36)\ttotal: 901ms\tremaining: 3.97s\n",
      "37:\tlearn: 0.7939536\ttest: 0.8136607\tbest: 0.8136607 (37)\ttotal: 920ms\tremaining: 3.92s\n",
      "38:\tlearn: 0.7964044\ttest: 0.8148339\tbest: 0.8148339 (38)\ttotal: 945ms\tremaining: 3.9s\n",
      "39:\tlearn: 0.7992620\ttest: 0.8172287\tbest: 0.8172287 (39)\ttotal: 961ms\tremaining: 3.84s\n",
      "40:\tlearn: 0.8024757\ttest: 0.8209009\tbest: 0.8209009 (40)\ttotal: 982ms\tremaining: 3.81s\n",
      "41:\tlearn: 0.8048368\ttest: 0.8225613\tbest: 0.8225613 (41)\ttotal: 997ms\tremaining: 3.75s\n",
      "42:\tlearn: 0.8071672\ttest: 0.8242749\tbest: 0.8242749 (42)\ttotal: 1.01s\tremaining: 3.7s\n",
      "43:\tlearn: 0.8091667\ttest: 0.8256134\tbest: 0.8256134 (43)\ttotal: 1.02s\tremaining: 3.63s\n",
      "44:\tlearn: 0.8113025\ttest: 0.8271409\tbest: 0.8271409 (44)\ttotal: 1.03s\tremaining: 3.56s\n",
      "45:\tlearn: 0.8132152\ttest: 0.8286520\tbest: 0.8286520 (45)\ttotal: 1.04s\tremaining: 3.5s\n",
      "46:\tlearn: 0.8149329\ttest: 0.8296453\tbest: 0.8296453 (46)\ttotal: 1.06s\tremaining: 3.45s\n",
      "47:\tlearn: 0.8164614\ttest: 0.8303546\tbest: 0.8303546 (47)\ttotal: 1.07s\tremaining: 3.39s\n",
      "48:\tlearn: 0.8180397\ttest: 0.8315996\tbest: 0.8315996 (48)\ttotal: 1.08s\tremaining: 3.34s\n",
      "49:\tlearn: 0.8207243\ttest: 0.8341841\tbest: 0.8341841 (49)\ttotal: 1.09s\tremaining: 3.28s\n",
      "50:\tlearn: 0.8220753\ttest: 0.8352863\tbest: 0.8352863 (50)\ttotal: 1.13s\tremaining: 3.29s\n",
      "51:\tlearn: 0.8229477\ttest: 0.8359565\tbest: 0.8359565 (51)\ttotal: 1.14s\tremaining: 3.24s\n",
      "52:\tlearn: 0.8243421\ttest: 0.8366889\tbest: 0.8366889 (52)\ttotal: 1.15s\tremaining: 3.19s\n",
      "53:\tlearn: 0.8254724\ttest: 0.8373837\tbest: 0.8373837 (53)\ttotal: 1.16s\tremaining: 3.15s\n",
      "54:\tlearn: 0.8277906\ttest: 0.8398927\tbest: 0.8398927 (54)\ttotal: 1.18s\tremaining: 3.1s\n",
      "55:\tlearn: 0.8299731\ttest: 0.8421801\tbest: 0.8421801 (55)\ttotal: 1.19s\tremaining: 3.06s\n",
      "56:\tlearn: 0.8309002\ttest: 0.8429189\tbest: 0.8429189 (56)\ttotal: 1.2s\tremaining: 3.02s\n",
      "57:\tlearn: 0.8319146\ttest: 0.8434672\tbest: 0.8434672 (57)\ttotal: 1.22s\tremaining: 2.98s\n",
      "58:\tlearn: 0.8330123\ttest: 0.8439857\tbest: 0.8439857 (58)\ttotal: 1.24s\tremaining: 2.96s\n",
      "59:\tlearn: 0.8339453\ttest: 0.8443605\tbest: 0.8443605 (59)\ttotal: 1.25s\tremaining: 2.92s\n",
      "60:\tlearn: 0.8346518\ttest: 0.8446675\tbest: 0.8446675 (60)\ttotal: 1.27s\tremaining: 2.91s\n",
      "61:\tlearn: 0.8354040\ttest: 0.8450024\tbest: 0.8450024 (61)\ttotal: 1.29s\tremaining: 2.87s\n",
      "62:\tlearn: 0.8359517\ttest: 0.8453486\tbest: 0.8453486 (62)\ttotal: 1.32s\tremaining: 2.86s\n",
      "63:\tlearn: 0.8365069\ttest: 0.8458214\tbest: 0.8458214 (63)\ttotal: 1.34s\tremaining: 2.84s\n",
      "64:\tlearn: 0.8378325\ttest: 0.8472698\tbest: 0.8472698 (64)\ttotal: 1.35s\tremaining: 2.81s\n",
      "65:\tlearn: 0.8384259\ttest: 0.8477181\tbest: 0.8477181 (65)\ttotal: 1.36s\tremaining: 2.77s\n",
      "66:\tlearn: 0.8389263\ttest: 0.8480295\tbest: 0.8480295 (66)\ttotal: 1.38s\tremaining: 2.73s\n",
      "67:\tlearn: 0.8406520\ttest: 0.8498061\tbest: 0.8498061 (67)\ttotal: 1.41s\tremaining: 2.73s\n",
      "68:\tlearn: 0.8420954\ttest: 0.8514445\tbest: 0.8514445 (68)\ttotal: 1.43s\tremaining: 2.72s\n",
      "69:\tlearn: 0.8432573\ttest: 0.8525238\tbest: 0.8525238 (69)\ttotal: 1.45s\tremaining: 2.69s\n",
      "70:\tlearn: 0.8445634\ttest: 0.8538510\tbest: 0.8538510 (70)\ttotal: 1.46s\tremaining: 2.65s\n",
      "71:\tlearn: 0.8452892\ttest: 0.8541224\tbest: 0.8541224 (71)\ttotal: 1.47s\tremaining: 2.62s\n",
      "72:\tlearn: 0.8457652\ttest: 0.8543283\tbest: 0.8543283 (72)\ttotal: 1.48s\tremaining: 2.58s\n",
      "73:\tlearn: 0.8463406\ttest: 0.8546344\tbest: 0.8546344 (73)\ttotal: 1.5s\tremaining: 2.55s\n",
      "74:\tlearn: 0.8467149\ttest: 0.8546207\tbest: 0.8546344 (73)\ttotal: 1.51s\tremaining: 2.51s\n",
      "75:\tlearn: 0.8471602\ttest: 0.8549096\tbest: 0.8549096 (75)\ttotal: 1.52s\tremaining: 2.48s\n",
      "76:\tlearn: 0.8479127\ttest: 0.8556967\tbest: 0.8556967 (76)\ttotal: 1.53s\tremaining: 2.44s\n",
      "77:\tlearn: 0.8484824\ttest: 0.8558633\tbest: 0.8558633 (77)\ttotal: 1.54s\tremaining: 2.4s\n",
      "78:\tlearn: 0.8488626\ttest: 0.8559662\tbest: 0.8559662 (78)\ttotal: 1.55s\tremaining: 2.37s\n",
      "79:\tlearn: 0.8492801\ttest: 0.8560443\tbest: 0.8560443 (79)\ttotal: 1.55s\tremaining: 2.33s\n",
      "80:\tlearn: 0.8496981\ttest: 0.8560888\tbest: 0.8560888 (80)\ttotal: 1.56s\tremaining: 2.3s\n",
      "81:\tlearn: 0.8500951\ttest: 0.8561344\tbest: 0.8561344 (81)\ttotal: 1.57s\tremaining: 2.26s\n",
      "82:\tlearn: 0.8504209\ttest: 0.8561905\tbest: 0.8561905 (82)\ttotal: 1.58s\tremaining: 2.23s\n",
      "83:\tlearn: 0.8507252\ttest: 0.8561904\tbest: 0.8561905 (82)\ttotal: 1.59s\tremaining: 2.19s\n",
      "84:\tlearn: 0.8509202\ttest: 0.8562022\tbest: 0.8562022 (84)\ttotal: 1.6s\tremaining: 2.16s\n",
      "85:\tlearn: 0.8512067\ttest: 0.8563057\tbest: 0.8563057 (85)\ttotal: 1.6s\tremaining: 2.13s\n",
      "86:\tlearn: 0.8514312\ttest: 0.8563736\tbest: 0.8563736 (86)\ttotal: 1.61s\tremaining: 2.1s\n",
      "87:\tlearn: 0.8516386\ttest: 0.8563332\tbest: 0.8563736 (86)\ttotal: 1.62s\tremaining: 2.06s\n",
      "88:\tlearn: 0.8519958\ttest: 0.8565087\tbest: 0.8565087 (88)\ttotal: 1.63s\tremaining: 2.03s\n",
      "89:\tlearn: 0.8522857\ttest: 0.8566844\tbest: 0.8566844 (89)\ttotal: 1.64s\tremaining: 2s\n",
      "90:\tlearn: 0.8526122\ttest: 0.8569971\tbest: 0.8569971 (90)\ttotal: 1.65s\tremaining: 1.97s\n",
      "91:\tlearn: 0.8529183\ttest: 0.8573161\tbest: 0.8573161 (91)\ttotal: 1.66s\tremaining: 1.95s\n",
      "92:\tlearn: 0.8532632\ttest: 0.8573780\tbest: 0.8573780 (92)\ttotal: 1.67s\tremaining: 1.92s\n",
      "93:\tlearn: 0.8542354\ttest: 0.8583386\tbest: 0.8583386 (93)\ttotal: 1.68s\tremaining: 1.89s\n",
      "94:\tlearn: 0.8545957\ttest: 0.8583883\tbest: 0.8583883 (94)\ttotal: 1.68s\tremaining: 1.86s\n",
      "95:\tlearn: 0.8554359\ttest: 0.8593226\tbest: 0.8593226 (95)\ttotal: 1.69s\tremaining: 1.83s\n",
      "96:\tlearn: 0.8556193\ttest: 0.8593401\tbest: 0.8593401 (96)\ttotal: 1.7s\tremaining: 1.81s\n",
      "97:\tlearn: 0.8557423\ttest: 0.8593933\tbest: 0.8593933 (97)\ttotal: 1.71s\tremaining: 1.78s\n",
      "98:\tlearn: 0.8558566\ttest: 0.8593690\tbest: 0.8593933 (97)\ttotal: 1.72s\tremaining: 1.75s\n",
      "99:\tlearn: 0.8560844\ttest: 0.8594610\tbest: 0.8594610 (99)\ttotal: 1.73s\tremaining: 1.73s\n",
      "100:\tlearn: 0.8562381\ttest: 0.8594777\tbest: 0.8594777 (100)\ttotal: 1.74s\tremaining: 1.7s\n",
      "101:\tlearn: 0.8564070\ttest: 0.8595261\tbest: 0.8595261 (101)\ttotal: 1.74s\tremaining: 1.68s\n",
      "102:\tlearn: 0.8565599\ttest: 0.8595339\tbest: 0.8595339 (102)\ttotal: 1.75s\tremaining: 1.65s\n",
      "103:\tlearn: 0.8567629\ttest: 0.8595016\tbest: 0.8595339 (102)\ttotal: 1.76s\tremaining: 1.63s\n",
      "104:\tlearn: 0.8569801\ttest: 0.8597092\tbest: 0.8597092 (104)\ttotal: 1.77s\tremaining: 1.6s\n",
      "105:\tlearn: 0.8574018\ttest: 0.8601968\tbest: 0.8601968 (105)\ttotal: 1.78s\tremaining: 1.58s\n",
      "106:\tlearn: 0.8574981\ttest: 0.8603254\tbest: 0.8603254 (106)\ttotal: 1.79s\tremaining: 1.56s\n",
      "107:\tlearn: 0.8577350\ttest: 0.8603204\tbest: 0.8603254 (106)\ttotal: 1.8s\tremaining: 1.54s\n",
      "108:\tlearn: 0.8579169\ttest: 0.8602832\tbest: 0.8603254 (106)\ttotal: 1.81s\tremaining: 1.51s\n",
      "109:\tlearn: 0.8580655\ttest: 0.8602339\tbest: 0.8603254 (106)\ttotal: 1.82s\tremaining: 1.49s\n",
      "110:\tlearn: 0.8585916\ttest: 0.8606449\tbest: 0.8606449 (110)\ttotal: 1.83s\tremaining: 1.47s\n",
      "111:\tlearn: 0.8587481\ttest: 0.8606177\tbest: 0.8606449 (110)\ttotal: 1.84s\tremaining: 1.45s\n",
      "112:\tlearn: 0.8589084\ttest: 0.8605771\tbest: 0.8606449 (110)\ttotal: 1.85s\tremaining: 1.43s\n",
      "113:\tlearn: 0.8590201\ttest: 0.8605738\tbest: 0.8606449 (110)\ttotal: 1.86s\tremaining: 1.41s\n",
      "114:\tlearn: 0.8591383\ttest: 0.8604424\tbest: 0.8606449 (110)\ttotal: 1.87s\tremaining: 1.38s\n",
      "115:\tlearn: 0.8592876\ttest: 0.8604991\tbest: 0.8606449 (110)\ttotal: 1.88s\tremaining: 1.36s\n",
      "116:\tlearn: 0.8593953\ttest: 0.8607018\tbest: 0.8607018 (116)\ttotal: 1.89s\tremaining: 1.34s\n",
      "117:\tlearn: 0.8595181\ttest: 0.8607108\tbest: 0.8607108 (117)\ttotal: 1.9s\tremaining: 1.32s\n",
      "118:\tlearn: 0.8596005\ttest: 0.8607163\tbest: 0.8607163 (118)\ttotal: 1.91s\tremaining: 1.3s\n",
      "119:\tlearn: 0.8596972\ttest: 0.8606849\tbest: 0.8607163 (118)\ttotal: 1.92s\tremaining: 1.28s\n",
      "120:\tlearn: 0.8597800\ttest: 0.8606920\tbest: 0.8607163 (118)\ttotal: 1.93s\tremaining: 1.26s\n",
      "121:\tlearn: 0.8600185\ttest: 0.8609079\tbest: 0.8609079 (121)\ttotal: 1.95s\tremaining: 1.24s\n",
      "122:\tlearn: 0.8601638\ttest: 0.8608797\tbest: 0.8609079 (121)\ttotal: 1.96s\tremaining: 1.22s\n",
      "123:\tlearn: 0.8602701\ttest: 0.8608318\tbest: 0.8609079 (121)\ttotal: 1.97s\tremaining: 1.21s\n",
      "124:\tlearn: 0.8603677\ttest: 0.8607706\tbest: 0.8609079 (121)\ttotal: 1.97s\tremaining: 1.18s\n",
      "125:\tlearn: 0.8604801\ttest: 0.8608488\tbest: 0.8609079 (121)\ttotal: 1.99s\tremaining: 1.17s\n",
      "126:\tlearn: 0.8610628\ttest: 0.8614974\tbest: 0.8614974 (126)\ttotal: 2s\tremaining: 1.15s\n",
      "127:\tlearn: 0.8611144\ttest: 0.8615379\tbest: 0.8615379 (127)\ttotal: 2.01s\tremaining: 1.13s\n",
      "128:\tlearn: 0.8612456\ttest: 0.8614964\tbest: 0.8615379 (127)\ttotal: 2.02s\tremaining: 1.11s\n",
      "129:\tlearn: 0.8613047\ttest: 0.8614580\tbest: 0.8615379 (127)\ttotal: 2.03s\tremaining: 1.09s\n",
      "130:\tlearn: 0.8619032\ttest: 0.8620142\tbest: 0.8620142 (130)\ttotal: 2.04s\tremaining: 1.08s\n",
      "131:\tlearn: 0.8622812\ttest: 0.8623577\tbest: 0.8623577 (131)\ttotal: 2.06s\tremaining: 1.06s\n",
      "132:\tlearn: 0.8623075\ttest: 0.8623639\tbest: 0.8623639 (132)\ttotal: 2.07s\tremaining: 1.04s\n",
      "133:\tlearn: 0.8623713\ttest: 0.8623519\tbest: 0.8623639 (132)\ttotal: 2.08s\tremaining: 1.02s\n",
      "134:\tlearn: 0.8624410\ttest: 0.8623114\tbest: 0.8623639 (132)\ttotal: 2.09s\tremaining: 1.01s\n",
      "135:\tlearn: 0.8625208\ttest: 0.8623196\tbest: 0.8623639 (132)\ttotal: 2.1s\tremaining: 990ms\n",
      "136:\tlearn: 0.8626298\ttest: 0.8623182\tbest: 0.8623639 (132)\ttotal: 2.12s\tremaining: 973ms\n",
      "137:\tlearn: 0.8626909\ttest: 0.8622509\tbest: 0.8623639 (132)\ttotal: 2.13s\tremaining: 958ms\n",
      "138:\tlearn: 0.8627335\ttest: 0.8621966\tbest: 0.8623639 (132)\ttotal: 2.15s\tremaining: 944ms\n",
      "139:\tlearn: 0.8630829\ttest: 0.8623564\tbest: 0.8623639 (132)\ttotal: 2.16s\tremaining: 928ms\n",
      "140:\tlearn: 0.8631820\ttest: 0.8623233\tbest: 0.8623639 (132)\ttotal: 2.18s\tremaining: 912ms\n",
      "141:\tlearn: 0.8632524\ttest: 0.8622906\tbest: 0.8623639 (132)\ttotal: 2.19s\tremaining: 896ms\n",
      "142:\tlearn: 0.8633123\ttest: 0.8622493\tbest: 0.8623639 (132)\ttotal: 2.2s\tremaining: 878ms\n",
      "143:\tlearn: 0.8634036\ttest: 0.8622166\tbest: 0.8623639 (132)\ttotal: 2.21s\tremaining: 860ms\n",
      "144:\tlearn: 0.8635282\ttest: 0.8621705\tbest: 0.8623639 (132)\ttotal: 2.22s\tremaining: 842ms\n",
      "145:\tlearn: 0.8636125\ttest: 0.8621384\tbest: 0.8623639 (132)\ttotal: 2.23s\tremaining: 824ms\n",
      "146:\tlearn: 0.8636949\ttest: 0.8621031\tbest: 0.8623639 (132)\ttotal: 2.23s\tremaining: 806ms\n",
      "147:\tlearn: 0.8641949\ttest: 0.8625497\tbest: 0.8625497 (147)\ttotal: 2.24s\tremaining: 788ms\n",
      "148:\tlearn: 0.8642111\ttest: 0.8625587\tbest: 0.8625587 (148)\ttotal: 2.25s\tremaining: 771ms\n",
      "149:\tlearn: 0.8642860\ttest: 0.8625855\tbest: 0.8625855 (149)\ttotal: 2.26s\tremaining: 753ms\n",
      "150:\tlearn: 0.8643581\ttest: 0.8625942\tbest: 0.8625942 (150)\ttotal: 2.27s\tremaining: 737ms\n",
      "151:\tlearn: 0.8646858\ttest: 0.8628419\tbest: 0.8628419 (151)\ttotal: 2.28s\tremaining: 719ms\n",
      "152:\tlearn: 0.8647330\ttest: 0.8629310\tbest: 0.8629310 (152)\ttotal: 2.29s\tremaining: 702ms\n",
      "153:\tlearn: 0.8648165\ttest: 0.8628571\tbest: 0.8629310 (152)\ttotal: 2.29s\tremaining: 685ms\n",
      "154:\tlearn: 0.8648791\ttest: 0.8629349\tbest: 0.8629349 (154)\ttotal: 2.3s\tremaining: 668ms\n",
      "155:\tlearn: 0.8649264\ttest: 0.8629300\tbest: 0.8629349 (154)\ttotal: 2.31s\tremaining: 651ms\n",
      "156:\tlearn: 0.8649617\ttest: 0.8629428\tbest: 0.8629428 (156)\ttotal: 2.31s\tremaining: 634ms\n",
      "157:\tlearn: 0.8650052\ttest: 0.8629147\tbest: 0.8629428 (156)\ttotal: 2.32s\tremaining: 617ms\n",
      "158:\tlearn: 0.8650587\ttest: 0.8629302\tbest: 0.8629428 (156)\ttotal: 2.33s\tremaining: 601ms\n",
      "159:\tlearn: 0.8651499\ttest: 0.8629121\tbest: 0.8629428 (156)\ttotal: 2.34s\tremaining: 584ms\n",
      "160:\tlearn: 0.8652546\ttest: 0.8629183\tbest: 0.8629428 (156)\ttotal: 2.35s\tremaining: 568ms\n",
      "161:\tlearn: 0.8652846\ttest: 0.8629979\tbest: 0.8629979 (161)\ttotal: 2.36s\tremaining: 553ms\n",
      "162:\tlearn: 0.8656996\ttest: 0.8633682\tbest: 0.8633682 (162)\ttotal: 2.37s\tremaining: 539ms\n",
      "163:\tlearn: 0.8657607\ttest: 0.8633300\tbest: 0.8633682 (162)\ttotal: 2.38s\tremaining: 524ms\n",
      "164:\tlearn: 0.8660007\ttest: 0.8635316\tbest: 0.8635316 (164)\ttotal: 2.4s\tremaining: 508ms\n",
      "165:\tlearn: 0.8661251\ttest: 0.8636498\tbest: 0.8636498 (165)\ttotal: 2.41s\tremaining: 493ms\n",
      "166:\tlearn: 0.8661351\ttest: 0.8636562\tbest: 0.8636562 (166)\ttotal: 2.42s\tremaining: 478ms\n",
      "167:\tlearn: 0.8662469\ttest: 0.8637638\tbest: 0.8637638 (167)\ttotal: 2.43s\tremaining: 463ms\n",
      "168:\tlearn: 0.8663496\ttest: 0.8637475\tbest: 0.8637638 (167)\ttotal: 2.44s\tremaining: 448ms\n",
      "169:\tlearn: 0.8663736\ttest: 0.8637687\tbest: 0.8637687 (169)\ttotal: 2.45s\tremaining: 433ms\n",
      "170:\tlearn: 0.8664430\ttest: 0.8637371\tbest: 0.8637687 (169)\ttotal: 2.46s\tremaining: 417ms\n",
      "171:\tlearn: 0.8665512\ttest: 0.8636323\tbest: 0.8637687 (169)\ttotal: 2.47s\tremaining: 402ms\n",
      "172:\tlearn: 0.8665729\ttest: 0.8636513\tbest: 0.8637687 (169)\ttotal: 2.48s\tremaining: 388ms\n",
      "173:\tlearn: 0.8665980\ttest: 0.8637218\tbest: 0.8637687 (169)\ttotal: 2.5s\tremaining: 373ms\n",
      "174:\tlearn: 0.8666352\ttest: 0.8636923\tbest: 0.8637687 (169)\ttotal: 2.51s\tremaining: 358ms\n",
      "175:\tlearn: 0.8666821\ttest: 0.8636394\tbest: 0.8637687 (169)\ttotal: 2.52s\tremaining: 344ms\n",
      "176:\tlearn: 0.8667245\ttest: 0.8635868\tbest: 0.8637687 (169)\ttotal: 2.53s\tremaining: 329ms\n",
      "177:\tlearn: 0.8667469\ttest: 0.8635885\tbest: 0.8637687 (169)\ttotal: 2.54s\tremaining: 314ms\n",
      "178:\tlearn: 0.8667758\ttest: 0.8635824\tbest: 0.8637687 (169)\ttotal: 2.55s\tremaining: 299ms\n",
      "179:\tlearn: 0.8668264\ttest: 0.8635747\tbest: 0.8637687 (169)\ttotal: 2.56s\tremaining: 285ms\n",
      "180:\tlearn: 0.8670688\ttest: 0.8637430\tbest: 0.8637687 (169)\ttotal: 2.57s\tremaining: 270ms\n",
      "181:\tlearn: 0.8672021\ttest: 0.8638520\tbest: 0.8638520 (181)\ttotal: 2.58s\tremaining: 255ms\n",
      "182:\tlearn: 0.8672175\ttest: 0.8638608\tbest: 0.8638608 (182)\ttotal: 2.59s\tremaining: 241ms\n",
      "183:\tlearn: 0.8672522\ttest: 0.8638293\tbest: 0.8638608 (182)\ttotal: 2.6s\tremaining: 226ms\n",
      "184:\tlearn: 0.8672598\ttest: 0.8638344\tbest: 0.8638608 (182)\ttotal: 2.61s\tremaining: 212ms\n",
      "185:\tlearn: 0.8673206\ttest: 0.8637916\tbest: 0.8638608 (182)\ttotal: 2.62s\tremaining: 197ms\n",
      "186:\tlearn: 0.8673481\ttest: 0.8638089\tbest: 0.8638608 (182)\ttotal: 2.63s\tremaining: 183ms\n",
      "187:\tlearn: 0.8675627\ttest: 0.8639506\tbest: 0.8639506 (187)\ttotal: 2.64s\tremaining: 169ms\n",
      "188:\tlearn: 0.8675879\ttest: 0.8639433\tbest: 0.8639506 (187)\ttotal: 2.65s\tremaining: 154ms\n",
      "189:\tlearn: 0.8676451\ttest: 0.8639829\tbest: 0.8639829 (189)\ttotal: 2.66s\tremaining: 140ms\n",
      "190:\tlearn: 0.8677169\ttest: 0.8639735\tbest: 0.8639829 (189)\ttotal: 2.67s\tremaining: 126ms\n",
      "191:\tlearn: 0.8677451\ttest: 0.8639910\tbest: 0.8639910 (191)\ttotal: 2.68s\tremaining: 112ms\n",
      "192:\tlearn: 0.8678057\ttest: 0.8639623\tbest: 0.8639910 (191)\ttotal: 2.69s\tremaining: 97.7ms\n",
      "193:\tlearn: 0.8678189\ttest: 0.8639711\tbest: 0.8639910 (191)\ttotal: 2.7s\tremaining: 83.6ms\n",
      "194:\tlearn: 0.8678476\ttest: 0.8639524\tbest: 0.8639910 (191)\ttotal: 2.71s\tremaining: 69.6ms\n",
      "195:\tlearn: 0.8678961\ttest: 0.8639612\tbest: 0.8639910 (191)\ttotal: 2.73s\tremaining: 55.6ms\n",
      "196:\tlearn: 0.8679260\ttest: 0.8639299\tbest: 0.8639910 (191)\ttotal: 2.73s\tremaining: 41.7ms\n",
      "197:\tlearn: 0.8679632\ttest: 0.8638787\tbest: 0.8639910 (191)\ttotal: 2.75s\tremaining: 27.7ms\n",
      "198:\tlearn: 0.8679938\ttest: 0.8638656\tbest: 0.8639910 (191)\ttotal: 2.76s\tremaining: 13.8ms\n",
      "199:\tlearn: 0.8680218\ttest: 0.8638337\tbest: 0.8639910 (191)\ttotal: 2.77s\tremaining: 0us\n",
      "\n",
      "bestTest = 0.8639910083\n",
      "bestIteration = 191\n",
      "\n",
      "Shrink model to first 192 iterations.\n"
     ]
    }
   ],
   "source": [
    "from catboost import CatBoostRegressor\n",
    "cat=CatBoostRegressor(iterations=200,learning_rate=0.05,depth=2,eval_metric=\"R2\")\n",
    "a=cat.fit(x_train,y_train,[1,4,5],eval_set=(x_test,y_test),plot=True)"
   ]
  },
  {
   "cell_type": "code",
   "execution_count": 21,
   "metadata": {},
   "outputs": [
    {
     "data": {
      "text/html": [
       "<div>\n",
       "<style scoped>\n",
       "    .dataframe tbody tr th:only-of-type {\n",
       "        vertical-align: middle;\n",
       "    }\n",
       "\n",
       "    .dataframe tbody tr th {\n",
       "        vertical-align: top;\n",
       "    }\n",
       "\n",
       "    .dataframe thead th {\n",
       "        text-align: right;\n",
       "    }\n",
       "</style>\n",
       "<table border=\"1\" class=\"dataframe\">\n",
       "  <thead>\n",
       "    <tr style=\"text-align: right;\">\n",
       "      <th></th>\n",
       "      <th>age</th>\n",
       "      <th>sex</th>\n",
       "      <th>bmi</th>\n",
       "      <th>children</th>\n",
       "      <th>smoker</th>\n",
       "      <th>region</th>\n",
       "    </tr>\n",
       "  </thead>\n",
       "  <tbody>\n",
       "    <tr>\n",
       "      <th>1323</th>\n",
       "      <td>42</td>\n",
       "      <td>female</td>\n",
       "      <td>40.370</td>\n",
       "      <td>2</td>\n",
       "      <td>yes</td>\n",
       "      <td>southeast</td>\n",
       "    </tr>\n",
       "    <tr>\n",
       "      <th>380</th>\n",
       "      <td>27</td>\n",
       "      <td>female</td>\n",
       "      <td>17.955</td>\n",
       "      <td>2</td>\n",
       "      <td>yes</td>\n",
       "      <td>northeast</td>\n",
       "    </tr>\n",
       "    <tr>\n",
       "      <th>1239</th>\n",
       "      <td>25</td>\n",
       "      <td>female</td>\n",
       "      <td>42.130</td>\n",
       "      <td>1</td>\n",
       "      <td>no</td>\n",
       "      <td>southeast</td>\n",
       "    </tr>\n",
       "    <tr>\n",
       "      <th>1267</th>\n",
       "      <td>24</td>\n",
       "      <td>male</td>\n",
       "      <td>31.065</td>\n",
       "      <td>0</td>\n",
       "      <td>yes</td>\n",
       "      <td>northeast</td>\n",
       "    </tr>\n",
       "    <tr>\n",
       "      <th>1184</th>\n",
       "      <td>23</td>\n",
       "      <td>female</td>\n",
       "      <td>28.490</td>\n",
       "      <td>1</td>\n",
       "      <td>yes</td>\n",
       "      <td>southeast</td>\n",
       "    </tr>\n",
       "    <tr>\n",
       "      <th>...</th>\n",
       "      <td>...</td>\n",
       "      <td>...</td>\n",
       "      <td>...</td>\n",
       "      <td>...</td>\n",
       "      <td>...</td>\n",
       "      <td>...</td>\n",
       "    </tr>\n",
       "    <tr>\n",
       "      <th>344</th>\n",
       "      <td>49</td>\n",
       "      <td>female</td>\n",
       "      <td>41.470</td>\n",
       "      <td>4</td>\n",
       "      <td>no</td>\n",
       "      <td>southeast</td>\n",
       "    </tr>\n",
       "    <tr>\n",
       "      <th>725</th>\n",
       "      <td>30</td>\n",
       "      <td>female</td>\n",
       "      <td>39.050</td>\n",
       "      <td>3</td>\n",
       "      <td>yes</td>\n",
       "      <td>southeast</td>\n",
       "    </tr>\n",
       "    <tr>\n",
       "      <th>384</th>\n",
       "      <td>44</td>\n",
       "      <td>male</td>\n",
       "      <td>22.135</td>\n",
       "      <td>2</td>\n",
       "      <td>no</td>\n",
       "      <td>northeast</td>\n",
       "    </tr>\n",
       "    <tr>\n",
       "      <th>1185</th>\n",
       "      <td>45</td>\n",
       "      <td>male</td>\n",
       "      <td>23.560</td>\n",
       "      <td>2</td>\n",
       "      <td>no</td>\n",
       "      <td>northeast</td>\n",
       "    </tr>\n",
       "    <tr>\n",
       "      <th>367</th>\n",
       "      <td>42</td>\n",
       "      <td>female</td>\n",
       "      <td>24.985</td>\n",
       "      <td>2</td>\n",
       "      <td>no</td>\n",
       "      <td>northwest</td>\n",
       "    </tr>\n",
       "  </tbody>\n",
       "</table>\n",
       "<p>1070 rows × 6 columns</p>\n",
       "</div>"
      ],
      "text/plain": [
       "      age     sex     bmi  children smoker     region\n",
       "1323   42  female  40.370         2    yes  southeast\n",
       "380    27  female  17.955         2    yes  northeast\n",
       "1239   25  female  42.130         1     no  southeast\n",
       "1267   24    male  31.065         0    yes  northeast\n",
       "1184   23  female  28.490         1    yes  southeast\n",
       "...   ...     ...     ...       ...    ...        ...\n",
       "344    49  female  41.470         4     no  southeast\n",
       "725    30  female  39.050         3    yes  southeast\n",
       "384    44    male  22.135         2     no  northeast\n",
       "1185   45    male  23.560         2     no  northeast\n",
       "367    42  female  24.985         2     no  northwest\n",
       "\n",
       "[1070 rows x 6 columns]"
      ]
     },
     "execution_count": 21,
     "metadata": {},
     "output_type": "execute_result"
    }
   ],
   "source": [
    "x_train"
   ]
  },
  {
   "cell_type": "code",
   "execution_count": 23,
   "metadata": {},
   "outputs": [
    {
     "data": {
      "text/plain": [
       "0.8561847753323374"
      ]
     },
     "execution_count": 23,
     "metadata": {},
     "output_type": "execute_result"
    }
   ],
   "source": [
    "from sklearn.pipeline import Pipeline\n",
    "from sklearn.preprocessing import OneHotEncoder\n",
    "from sklearn.compose import ColumnTransformer\n",
    "from sklearn.svm import LinearSVR\n",
    "from sklearn.ensemble import GradientBoostingRegressor\n",
    "from sklearn.linear_model import LinearRegression\n",
    "from sklearn.ensemble import StackingRegressor\n",
    "from sklearn.metrics import r2_score\n",
    "step1=ColumnTransformer([(\"\",OneHotEncoder(),[1,4,5])],remainder=\"passthrough\")\n",
    "lr=LinearRegression()\n",
    "svr=LinearSVR()\n",
    "gbr=GradientBoostingRegressor()\n",
    "step2=StackingRegressor([(\"lr\",lr),(\"svt\",svr),(\"gbr\",gbr)])\n",
    "pipe=Pipeline([(\"step1\",step1),(\"step2\",step2)])\n",
    "pipe.fit(x_train,y_train)\n",
    "ypred=pipe.predict(x_test)\n",
    "r2_score(y_test,ypred)"
   ]
  }
 ],
 "metadata": {
  "kernelspec": {
   "display_name": "Python 3",
   "language": "python",
   "name": "python3"
  },
  "language_info": {
   "codemirror_mode": {
    "name": "ipython",
    "version": 3
   },
   "file_extension": ".py",
   "mimetype": "text/x-python",
   "name": "python",
   "nbconvert_exporter": "python",
   "pygments_lexer": "ipython3",
   "version": "3.10.7"
  },
  "orig_nbformat": 4
 },
 "nbformat": 4,
 "nbformat_minor": 2
}
